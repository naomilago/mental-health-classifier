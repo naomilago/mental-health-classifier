{
 "cells": [
  {
   "attachments": {},
   "cell_type": "markdown",
   "metadata": {},
   "source": [
    "<h1 style='color: orange; font-weight: bold; text-align: center;'>Mental Healthier Classifier</h1>\n",
    "\n",
    "<p style='text-align: center;'> This notebook aims to classify sentences on mental health - whether is healthy or not. It is based on the Mental Health Corpus dataset provided by Reihaneh Namdari on Kaggle. </p>"
   ]
  },
  {
   "attachments": {},
   "cell_type": "markdown",
   "metadata": {},
   "source": [
    "### Setting up"
   ]
  },
  {
   "cell_type": "code",
   "execution_count": 10,
   "metadata": {},
   "outputs": [],
   "source": [
    "import matplotlib.pyplot as plt\n",
    "from zipfile import ZipFile\n",
    "import seaborn as sns\n",
    "import pandas as pd\n",
    "import numpy as np\n",
    "\n",
    "plt.style.use('ggplot')\n",
    "\n",
    "FILE = './data/mental_health.csv.zip'\n",
    "\n",
    "zf = ZipFile(FILE)\n",
    "\n",
    "zf.extractall('./data/')\n",
    "\n",
    "uri = './data/mental_health.csv'\n",
    "\n",
    "df = pd.read_csv(uri)"
   ]
  },
  {
   "attachments": {},
   "cell_type": "markdown",
   "metadata": {},
   "source": [
    "### Quick EDA"
   ]
  },
  {
   "cell_type": "code",
   "execution_count": 11,
   "metadata": {},
   "outputs": [
    {
     "name": "stdout",
     "output_type": "stream",
     "text": [
      "Dataframe shape: (27977, 2) \n",
      "\n",
      "<class 'pandas.core.frame.DataFrame'>\n",
      "RangeIndex: 27977 entries, 0 to 27976\n",
      "Data columns (total 2 columns):\n",
      " #   Column  Non-Null Count  Dtype \n",
      "---  ------  --------------  ----- \n",
      " 0   text    27977 non-null  object\n",
      " 1   label   27977 non-null  int64 \n",
      "dtypes: int64(1), object(1)\n",
      "memory usage: 437.3+ KB\n",
      "None \n",
      "\n"
     ]
    },
    {
     "data": {
      "text/html": [
       "<div>\n",
       "<style scoped>\n",
       "    .dataframe tbody tr th:only-of-type {\n",
       "        vertical-align: middle;\n",
       "    }\n",
       "\n",
       "    .dataframe tbody tr th {\n",
       "        vertical-align: top;\n",
       "    }\n",
       "\n",
       "    .dataframe thead th {\n",
       "        text-align: right;\n",
       "    }\n",
       "</style>\n",
       "<table border=\"1\" class=\"dataframe\">\n",
       "  <thead>\n",
       "    <tr style=\"text-align: right;\">\n",
       "      <th></th>\n",
       "      <th>text</th>\n",
       "      <th>label</th>\n",
       "    </tr>\n",
       "  </thead>\n",
       "  <tbody>\n",
       "    <tr>\n",
       "      <th>0</th>\n",
       "      <td>dear american teens question dutch person hear...</td>\n",
       "      <td>0</td>\n",
       "    </tr>\n",
       "    <tr>\n",
       "      <th>1</th>\n",
       "      <td>nothing look forward lifei dont many reasons k...</td>\n",
       "      <td>1</td>\n",
       "    </tr>\n",
       "    <tr>\n",
       "      <th>2</th>\n",
       "      <td>music recommendations im looking expand playli...</td>\n",
       "      <td>0</td>\n",
       "    </tr>\n",
       "  </tbody>\n",
       "</table>\n",
       "</div>"
      ],
      "text/plain": [
       "                                                text  label\n",
       "0  dear american teens question dutch person hear...      0\n",
       "1  nothing look forward lifei dont many reasons k...      1\n",
       "2  music recommendations im looking expand playli...      0"
      ]
     },
     "execution_count": 11,
     "metadata": {},
     "output_type": "execute_result"
    }
   ],
   "source": [
    "print('Dataframe shape:', df.shape, '\\n')\n",
    "\n",
    "print(df.info(), '\\n')\n",
    "\n",
    "df.head(3)"
   ]
  },
  {
   "cell_type": "code",
   "execution_count": 12,
   "metadata": {},
   "outputs": [
    {
     "data": {
      "text/html": [
       "<div>\n",
       "<style scoped>\n",
       "    .dataframe tbody tr th:only-of-type {\n",
       "        vertical-align: middle;\n",
       "    }\n",
       "\n",
       "    .dataframe tbody tr th {\n",
       "        vertical-align: top;\n",
       "    }\n",
       "\n",
       "    .dataframe thead th {\n",
       "        text-align: right;\n",
       "    }\n",
       "</style>\n",
       "<table border=\"1\" class=\"dataframe\">\n",
       "  <thead>\n",
       "    <tr style=\"text-align: right;\">\n",
       "      <th></th>\n",
       "      <th>count</th>\n",
       "      <th>mean</th>\n",
       "      <th>std</th>\n",
       "      <th>min</th>\n",
       "      <th>25%</th>\n",
       "      <th>50%</th>\n",
       "      <th>75%</th>\n",
       "      <th>max</th>\n",
       "    </tr>\n",
       "  </thead>\n",
       "  <tbody>\n",
       "    <tr>\n",
       "      <th>label</th>\n",
       "      <td>27977.0</td>\n",
       "      <td>0.494621</td>\n",
       "      <td>0.49998</td>\n",
       "      <td>0.0</td>\n",
       "      <td>0.0</td>\n",
       "      <td>0.0</td>\n",
       "      <td>1.0</td>\n",
       "      <td>1.0</td>\n",
       "    </tr>\n",
       "  </tbody>\n",
       "</table>\n",
       "</div>"
      ],
      "text/plain": [
       "         count      mean      std  min  25%  50%  75%  max\n",
       "label  27977.0  0.494621  0.49998  0.0  0.0  0.0  1.0  1.0"
      ]
     },
     "execution_count": 12,
     "metadata": {},
     "output_type": "execute_result"
    }
   ],
   "source": [
    "df.describe().T"
   ]
  },
  {
   "cell_type": "code",
   "execution_count": 13,
   "metadata": {},
   "outputs": [
    {
     "name": "stdout",
     "output_type": "stream",
     "text": [
      "Count:\n",
      "0    14139\n",
      "1    13838\n",
      "Name: label, dtype: int64\n",
      "\n",
      "Percentage:\n",
      "0    0.505379\n",
      "1    0.494621\n",
      "Name: label, dtype: float64\n"
     ]
    }
   ],
   "source": [
    "print('Count:\\n{}\\n'.format(df.label.value_counts()))\n",
    "print('Percentage:\\n{}'.format(df.label.value_counts(normalize=True)))"
   ]
  },
  {
   "cell_type": "code",
   "execution_count": 14,
   "metadata": {},
   "outputs": [
    {
     "data": {
      "image/png": "[encoded data removed]",
      "text/plain": [
       "<Figure size 1000x500 with 2 Axes>"
      ]
     },
     "metadata": {},
     "output_type": "display_data"
    }
   ],
   "source": [
    "fig, axs = plt.subplots(1, 2, figsize=(10, 5))\n",
    "\n",
    "sns.set_theme(style='ticks', rc={\"axes.spines.right\": False, \"axes.spines.top\": False})\n",
    "\n",
    "sns.barplot(\n",
    "  data=df.label.value_counts(normalize=True).reset_index(), \n",
    "  x='index', \n",
    "  y='label',\n",
    "  palette=\"rocket\",\n",
    "  ax=axs[0]\n",
    ")\n",
    "\n",
    "sns.barplot(\n",
    "  data=df.label.value_counts(normalize=False).reset_index(), \n",
    "  x='index', \n",
    "  y='label',\n",
    "  palette=\"rocket\",\n",
    "  ax=axs[1]\n",
    ")\n",
    "\n",
    "axs[0].set_title('\\nPercentage\\n')\n",
    "axs[0].set_xlabel('classification')\n",
    "axs[0].set_ylabel('percentage (%)')\n",
    "\n",
    "axs[1].set_title('\\nCount\\n')\n",
    "axs[1].set_xlabel('classification')\n",
    "axs[1].set_ylabel('count')\n",
    "\n",
    "plt.tight_layout()\n",
    "\n",
    "plt.show()"
   ]
  },
  {
   "attachments": {},
   "cell_type": "markdown",
   "metadata": {},
   "source": [
    "### Tokenization"
   ]
  },
  {
   "cell_type": "code",
   "execution_count": 15,
   "metadata": {},
   "outputs": [
    {
     "name": "stdout",
     "output_type": "stream",
     "text": [
      "Iteration: 0\n",
      "This statement is after 'pass'\n",
      "Iteration: 1\n",
      "This statement is after 'pass'\n",
      "Iteration: 2\n",
      "This statement is after 'pass'\n",
      "Iteration: 3\n",
      "This statement is after 'pass'\n",
      "Iteration: 4\n",
      "This statement is after 'pass'\n"
     ]
    }
   ],
   "source": [
    "for num in range(0,5):\n",
    "    pass\n",
    "    print(f'Iteration: {num}')\n",
    "    print(\"This statement is after 'pass'\")\n",
    "    continue\n",
    "    print(\"This statement is after 'continue'\")"
   ]
  },
  {
   "cell_type": "code",
   "execution_count": 16,
   "metadata": {},
   "outputs": [
    {
     "name": "stdout",
     "output_type": "stream",
     "text": [
      "Text:\n",
      "im warn you please hear out hello getting straight point searching friends know basic daily stuff hitted upon someone nickname  umykittylolitahttpswwwredditcomusermykittylolita  asking discord since everything started get outta hand stalking even hiding fact they even doubt really girl digging private info even that one hella weird cutting or faking cut seem rly legit me arm nickname used go by owie sending images time trying take logic understanding approach understood much blocked em off got join discord server  mins also banned em server order keep rest members save started inviting many active people server server started straightup talking shit me dropping many screenshots private conversations possible weirdconcerning creepy repulsive yall doublecheck watchout \n",
      "\n",
      "Label:\n",
      "0\n"
     ]
    }
   ],
   "source": [
    "from nltk import word_tokenize\n",
    "import nltk\n",
    "\n",
    "def find_entry(index: int):\n",
    "  if type(index) == int:\n",
    "    print('Text:\\n{}'.format(df.text.values[index]), '\\n')\n",
    "    print('Label:\\n{}'.format(df.label.values[index]))\n",
    "  else:\n",
    "    raise ValueError\n",
    "  \n",
    "find_entry(24) "
   ]
  },
  {
   "cell_type": "code",
   "execution_count": 17,
   "metadata": {},
   "outputs": [
    {
     "name": "stdout",
     "output_type": "stream",
     "text": [
      "['driven', 'redflagi', 'think', 'partners', 'negativity', 'driving', 'redflag', 'started', 'months', 'ago'] \n",
      "\n",
      " [('driven', 'RB'), ('redflagi', 'JJ'), ('think', 'VBP'), ('partners', 'NNS'), ('negativity', 'JJ'), ('driving', 'VBG'), ('redflag', 'NN'), ('started', 'VBD'), ('months', 'NNS'), ('ago', 'IN')]\n"
     ]
    }
   ],
   "source": [
    "tokens = nltk.word_tokenize(df.text.values[100])\n",
    "tagged = nltk.pos_tag(tokens)\n",
    "\n",
    "print(f'{tokens[:10]} \\n\\n {tagged[:10]}')"
   ]
  },
  {
   "attachments": {},
   "cell_type": "markdown",
   "metadata": {},
   "source": [
    "### Train/Test split"
   ]
  },
  {
   "cell_type": "code",
   "execution_count": 24,
   "metadata": {},
   "outputs": [
    {
     "name": "stdout",
     "output_type": "stream",
     "text": [
      "Train size: (19583,)\n",
      "Test size: (8394,)\n"
     ]
    }
   ],
   "source": [
    "from sklearn.feature_extraction.text import CountVectorizer\n",
    "from sklearn.model_selection import train_test_split\n",
    "\n",
    "vectorizer = CountVectorizer()\n",
    "\n",
    "texts = df['text'].values\n",
    "labels = df['label'].values\n",
    "\n",
    "texts_train, texts_test, y_train, y_test = train_test_split(\n",
    "  texts, \n",
    "  labels, \n",
    "  test_size=0.30, \n",
    "  random_state=1000\n",
    ")\n",
    "\n",
    "print(f'Train size: {texts_train.shape}')\n",
    "print(f'Test size: {texts_test.shape}')"
   ]
  },
  {
   "attachments": {},
   "cell_type": "markdown",
   "metadata": {},
   "source": [
    "###  `CountVectorizer()`"
   ]
  },
  {
   "cell_type": "code",
   "execution_count": 28,
   "metadata": {},
   "outputs": [],
   "source": [
    "vectorizer = CountVectorizer()\n",
    "vectorizer.fit(texts_train)\n",
    "\n",
    "x_train, x_test = vectorizer.transform(texts_train), vectorizer.transform(texts_test)"
   ]
  },
  {
   "attachments": {},
   "cell_type": "markdown",
   "metadata": {},
   "source": [
    "### `LogisticRegression()`"
   ]
  },
  {
   "cell_type": "code",
   "execution_count": 32,
   "metadata": {},
   "outputs": [
    {
     "data": {
      "text/plain": [
       "0.9108887300452704"
      ]
     },
     "execution_count": 32,
     "metadata": {},
     "output_type": "execute_result"
    }
   ],
   "source": [
    "from sklearn.linear_model import LogisticRegression\n",
    "\n",
    "classifier = LogisticRegression(n_jobs=-1, max_iter=1000, random_state=1000)\n",
    "classifier.fit(x_train, y_train)\n",
    "\n",
    "classifier.score(x_test, y_test)"
   ]
  },
  {
   "attachments": {},
   "cell_type": "markdown",
   "metadata": {},
   "source": [
    "### Classify"
   ]
  },
  {
   "cell_type": "code",
   "execution_count": 75,
   "metadata": {},
   "outputs": [
    {
     "name": "stdout",
     "output_type": "stream",
     "text": [
      "Text: dear american teens question dutch person heard guys get way easier things learn age us sooooo thth graders like  right guys learn math\n",
      "\n",
      "Classification: Negative\n"
     ]
    }
   ],
   "source": [
    "def classify(text: str):\n",
    "  sparse_matrix = vectorizer.transform([text])\n",
    "  prediction = classifier.predict(sparse_matrix)\n",
    "  \n",
    "  if prediction[0] == 1:\n",
    "    result = 'Positive'\n",
    "  else:\n",
    "    result = 'Negative'\n",
    "  \n",
    "  return result\n",
    "\n",
    "text = df.text.values[0]\n",
    "classification = classify(df.text.values[0])\n",
    "\n",
    "print(f'Text: {text}\\n\\nClassification: {classification}')"
   ]
  }
 ],
 "metadata": {
  "kernelspec": {
   "display_name": "venv",
   "language": "python",
   "name": "python3"
  },
  "language_info": {
   "codemirror_mode": {
    "name": "ipython",
    "version": 3
   },
   "file_extension": ".py",
   "mimetype": "text/x-python",
   "name": "python",
   "nbconvert_exporter": "python",
   "pygments_lexer": "ipython3",
   "version": "3.10.6"
  },
  "orig_nbformat": 4,
  "vscode": {
   "interpreter": {
    "hash": "597870fb4ff1107932ca54d1f65bab6fe53c3f19641877614d0c6bbebf940886"
   }
  }
 },
 "nbformat": 4,
 "nbformat_minor": 2
}
